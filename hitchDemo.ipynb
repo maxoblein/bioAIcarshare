{
 "cells": [
  {
   "cell_type": "markdown",
   "metadata": {},
   "source": [
    "Demo netebook to play with the code for our bioAI project\n"
   ]
  },
  {
   "cell_type": "code",
   "execution_count": 1,
   "metadata": {},
   "outputs": [],
   "source": [
    "#Imports#\n",
    "from max import *\n",
    "from james import *"
   ]
  },
  {
   "cell_type": "markdown",
   "metadata": {},
   "source": [
    "General idea\n",
    "\n",
    "- Generate a network of size n Nodes\n",
    "- Place passengers at random nodes within network\n",
    "- Select start and goal nodes for journey\n",
    "- simulate ants on the network whose position updates according to a function of distance to next node, distance from next node to goal node, and pheremone trail on that edge (initially 0)\n",
    "- Score the route taken by each ant according to length and pickups\n",
    "- Place pheremone on the edges used by ants according to flow\n",
    "- Simulate next batch\n",
    "- Retrive best routes from final simulation"
   ]
  },
  {
   "cell_type": "code",
   "execution_count": 2,
   "metadata": {},
   "outputs": [
    {
     "name": "stdout",
     "output_type": "stream",
     "text": [
      "[(1, 6, {}), (1, 7, {}), (1, 5, {}), (1, 8, {}), (1, 4, {}), (2, 0, {}), (2, 9, {}), (2, 5, {}), (3, 8, {}), (3, 7, {}), (3, 0, {}), (4, 0, {}), (4, 9, {}), (4, 8, {}), (4, 5, {}), (5, 9, {}), (5, 6, {}), (6, 7, {}), (7, 8, {}), (8, 0, {}), (9, 0, {})]\n"
     ]
    }
   ],
   "source": [
    "G = synthetic_network(10)\n",
    "print(G.edges(data=True))"
   ]
  },
  {
   "cell_type": "code",
   "execution_count": null,
   "metadata": {},
   "outputs": [],
   "source": []
  }
 ],
 "metadata": {
  "kernelspec": {
   "display_name": "Python 3",
   "language": "python",
   "name": "python3"
  },
  "language_info": {
   "codemirror_mode": {
    "name": "ipython",
    "version": 3
   },
   "file_extension": ".py",
   "mimetype": "text/x-python",
   "name": "python",
   "nbconvert_exporter": "python",
   "pygments_lexer": "ipython3",
   "version": "3.8.3"
  }
 },
 "nbformat": 4,
 "nbformat_minor": 4
}
