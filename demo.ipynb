{
 "cells": [
  {
   "cell_type": "markdown",
   "metadata": {},
   "source": [
    "Code for our bioAI demo "
   ]
  },
  {
   "cell_type": "code",
   "execution_count": 20,
   "metadata": {},
   "outputs": [],
   "source": [
    "# Import required libraries\n",
    "\n",
    "import numpy as np\n",
    "import math\n",
    "import matplotlib.pyplot as plt\n",
    "%matplotlib inline\n"
   ]
  },
  {
   "cell_type": "markdown",
   "metadata": {},
   "source": [
    "Initialising a simple network structure as a small demo of TSP using ant colony optimisation. This is simply as a test to make sure I understand the methodology"
   ]
  },
  {
   "cell_type": "code",
   "execution_count": 33,
   "metadata": {},
   "outputs": [],
   "source": [
    "#Create a simple distance metric\n",
    "\n",
    "def euclidean_distance(point1, point2):\n",
    "    distance = math.sqrt((point1[0] - point2[0])**2 + (point1[1] - point2[1])**2)\n",
    "    return distance\n",
    "\n",
    "# Initilise network of nodes within a rectangular boundary\n",
    "\n",
    "def init_network(numNodes):\n",
    "    #generate node coordinates\n",
    "    minVal = 0\n",
    "    maxVal = 10\n",
    "    rangeSize = maxVal - minVal\n",
    "    coordinates = np.random.rand(numNodes,2) * rangeSize + minVal\n",
    "    \n",
    "    print(np.shape(coordinates))\n",
    "    distances = np.ones((numNodes,numNodes))\n",
    "    \n",
    "    for i in range(numNodes):\n",
    "        for j in range(numNodes):\n",
    "            distances[i][j] = euclidean_distance(coordinates[i,:],coordinates[j,:])\n",
    "            \n",
    "    \n",
    "    \n",
    "    return coordinates,distances\n",
    "    \n"
   ]
  },
  {
   "cell_type": "code",
   "execution_count": 38,
   "metadata": {},
   "outputs": [
    {
     "name": "stdout",
     "output_type": "stream",
     "text": [
      "(10, 2)\n",
      "[[6.38557153 1.55137853]\n",
      " [5.21157138 4.91151168]\n",
      " [2.39511657 1.10535489]\n",
      " [2.37640054 5.25374525]\n",
      " [4.98859607 1.27977628]\n",
      " [2.07600654 3.92293876]\n",
      " [2.15336198 1.09374257]\n",
      " [5.51891449 5.51126314]\n",
      " [9.91709342 8.28435624]\n",
      " [4.0843837  2.16145202]]\n",
      "[[ 0.          3.55932172  4.01530421  5.45719446  1.42313324  4.91900888\n",
      "   4.25688012  4.05361327  7.602936    2.38068375]\n",
      " [ 3.55932172  0.          4.73489675  2.85575166  3.6385739   3.28771095\n",
      "   4.89162608  0.67391513  5.78947477  2.9721003 ]\n",
      " [ 4.01530421  4.73489675  0.          4.14843258  2.59933814  2.83559695\n",
      "   0.24203332  5.40093889 10.39799001  1.99222604]\n",
      " [ 5.45719446  2.85575166  4.14843258  0.          4.75562771  1.36428827\n",
      "   4.16597749  3.15304764  8.12690914  3.5326313 ]\n",
      " [ 1.42313324  3.6385739   2.59933814  4.75562771  0.          3.93312671\n",
      "   2.84133083  4.26458892  8.5647082   1.26291414]\n",
      " [ 4.91900888  3.28771095  2.83559695  1.36428827  3.93312671  0.\n",
      "   2.83025351  3.79162096  8.9724359   2.67140681]\n",
      " [ 4.25688012  4.89162608  0.24203332  4.16597749  2.84133083  2.83025351\n",
      "   0.          5.55350625 10.58208159  2.2065467 ]\n",
      " [ 4.05361327  0.67391513  5.40093889  3.15304764  4.26458892  3.79162096\n",
      "   5.55350625  0.          5.19942529  3.64405175]\n",
      " [ 7.602936    5.78947477 10.39799001  8.12690914  8.5647082   8.9724359\n",
      "  10.58208159  5.19942529  0.          8.45638569]\n",
      " [ 2.38068375  2.9721003   1.99222604  3.5326313   1.26291414  2.67140681\n",
      "   2.2065467   3.64405175  8.45638569  0.        ]]\n"
     ]
    }
   ],
   "source": [
    "nodes,distances = init_network(10)\n",
    "print(nodes)\n",
    "print(distances)"
   ]
  },
  {
   "cell_type": "code",
   "execution_count": 24,
   "metadata": {},
   "outputs": [
    {
     "name": "stdout",
     "output_type": "stream",
     "text": [
      "[[1.23858698 7.0607711 ]\n",
      " [9.11016622 9.10403185]\n",
      " [0.70996998 8.67046015]\n",
      " [1.70437792 4.99008859]\n",
      " [3.27141642 9.97313492]\n",
      " [0.46722418 7.15415979]\n",
      " [4.53387736 4.40772675]\n",
      " [5.23051386 3.52633277]\n",
      " [5.51315478 2.9955342 ]\n",
      " [4.41789571 0.77547366]]\n"
     ]
    },
    {
     "data": {
      "image/png": "[encoded data removed]",
      "text/plain": [
       "<Figure size 432x288 with 1 Axes>"
      ]
     },
     "metadata": {
      "needs_background": "light"
     },
     "output_type": "display_data"
    }
   ],
   "source": [
    "#Visualise network nodes\n",
    "nodes = init_network(10)\n",
    "fig, ax = plt.subplots()\n",
    "ax.scatter(nodes[:,0],nodes[:,1])\n",
    "plt.show()\n",
    "    \n"
   ]
  },
  {
   "cell_type": "code",
   "execution_count": 25,
   "metadata": {},
   "outputs": [],
   "source": []
  },
  {
   "cell_type": "code",
   "execution_count": 80,
   "metadata": {},
   "outputs": [],
   "source": [
    "def choose_next_node(path, nodes, distances):\n",
    "    distPower = 2\n",
    "    numNodes = np.shape(nodes)[0]\n",
    "    \n",
    "    \n",
    "    options = np.setdiff1d(np.arange(numNodes),path)\n",
    "    \n",
    "    desirability = np.ones(len(options))\n",
    "    \n",
    "    distanceToOptions = np.ones(len(options))\n",
    "    for i in range(len(options)):\n",
    "        distanceToOptions[i] = distances[path[-1]][options[i]]\n",
    "    \n",
    "    \n",
    "    \n",
    "    for j in range(len(options)):\n",
    "        desirability[j] = (1/distanceToOptions[j])**distPower\n",
    "    \n",
    "    \n",
    "    \n",
    "    normDesirability = [x/sum(desirability) for x in desirability]\n",
    "    \n",
    "    \n",
    "    nextNode = options[np.random.choice(len(options),1,p = normDesirability)[0]]\n",
    "    \n",
    "    return nextNode\n",
    "        \n",
    "    "
   ]
  },
  {
   "cell_type": "code",
   "execution_count": 81,
   "metadata": {},
   "outputs": [
    {
     "data": {
      "text/plain": [
       "2"
      ]
     },
     "execution_count": 81,
     "metadata": {},
     "output_type": "execute_result"
    }
   ],
   "source": [
    "choose_next_node([0],nodes,distances)"
   ]
  },
  {
   "cell_type": "code",
   "execution_count": 82,
   "metadata": {},
   "outputs": [
    {
     "name": "stdout",
     "output_type": "stream",
     "text": [
      "(10, 2)\n",
      "[0, 1]\n",
      "[0, 1, 5]\n",
      "[0, 1, 5, 2]\n",
      "[0, 1, 5, 2, 4]\n",
      "[0, 1, 5, 2, 4, 6]\n",
      "[0, 1, 5, 2, 4, 6, 9]\n",
      "[0, 1, 5, 2, 4, 6, 9, 7]\n",
      "[0, 1, 5, 2, 4, 6, 9, 7, 8]\n",
      "[0, 1, 5, 2, 4, 6, 9, 7, 8, 3]\n"
     ]
    }
   ],
   "source": [
    "numNodes = 10\n",
    "nodes,distances = init_network(numNodes)\n",
    "\n",
    "initialNode = np.random.choice(numNodes,1)[0]\n",
    "\n",
    "path = [initialNode]\n",
    "\n",
    "while len(path) < numNodes:\n",
    "    path.append(choose_next_node(path,nodes,distances))\n",
    "    \n",
    "    print(path)"
   ]
  },
  {
   "cell_type": "code",
   "execution_count": 83,
   "metadata": {},
   "outputs": [],
   "source": [
    "def get_ant_path(initialNode,nodes,distances):\n",
    "    path = [initialNode]\n",
    "    numNodes = np.shape(nodes)[0]\n",
    "\n",
    "    while len(path) < numNodes:\n",
    "        path.append(choose_next_node(path,nodes,distances))\n",
    "    \n",
    "    \n",
    "    return path\n",
    "        \n"
   ]
  },
  {
   "cell_type": "code",
   "execution_count": 85,
   "metadata": {},
   "outputs": [],
   "source": [
    "def path_score(path,distances):\n",
    "    #for now the path is score simply by its overall length\n",
    "    \n",
    "    length = 0\n",
    "    \n",
    "    for i in range(len(path) - 1):\n",
    "        length = length + distances[path[i]][path[i+1]]\n",
    "        \n",
    "    return length\n",
    "        "
   ]
  },
  {
   "cell_type": "code",
   "execution_count": 88,
   "metadata": {},
   "outputs": [
    {
     "name": "stdout",
     "output_type": "stream",
     "text": [
      "[[3. 4. 2. ... 0. 9. 8.]\n",
      " [3. 7. 4. ... 8. 6. 0.]\n",
      " [3. 0. 1. ... 8. 9. 5.]\n",
      " ...\n",
      " [3. 0. 1. ... 9. 5. 7.]\n",
      " [3. 5. 4. ... 7. 6. 9.]\n",
      " [3. 0. 1. ... 9. 6. 8.]]\n",
      "[36.61024704 35.60854715 32.49782504 31.70075185 30.27320442 28.08788315\n",
      " 30.17406481 32.16838133 26.27427328 31.80046177 31.34585542 29.12356709\n",
      " 30.27232553 24.84854253 30.37507061 25.73648442 29.68530654 32.10701051\n",
      " 32.93094367 27.90385942 25.23281265 24.02165438 27.64115117 27.82946556\n",
      " 34.21359098 24.78192516 27.59661603 30.95339795 33.7434024  30.78512588\n",
      " 33.97114582 35.2159995  27.60533213 27.26731428 35.24152801 28.69234624\n",
      " 32.83992588 26.41279425 28.13050118 30.78877935 28.83083516 27.86355721\n",
      " 34.17207028 24.21881828 23.79354294 31.70544587 27.82576142 36.15436547\n",
      " 25.73204477 30.30689429 28.89144151 24.87318439 25.97490595 26.7921296\n",
      " 33.05899153 29.58020679 31.43488566 31.56119133 30.44777673 43.02464412\n",
      " 35.9817128  31.0184336  25.76537222 26.91039466 36.425213   24.69447791\n",
      " 33.6443406  28.81341054 25.56754138 26.51867555 30.08850313 33.15408978\n",
      " 35.94735435 35.67653172 22.76221347 32.19806006 33.89302621 28.40999619\n",
      " 23.35310869 21.84207687 25.76537222 27.56859751 23.69076457 25.71183138\n",
      " 25.53112495 24.03486589 22.98876367 31.19528562 26.66845594 32.61798771\n",
      " 23.02013883 30.2746455  24.65925253 25.9807299  34.22301181 29.23649905\n",
      " 31.97414393 24.05950775 30.30517787 32.63708748 29.50572345 26.73602662\n",
      " 30.93467363 28.61917642 29.27317914 29.58237642 27.91181181 32.10826271\n",
      " 34.65129441 26.07059256 36.82867428 31.44650209 31.71872721 33.23301974\n",
      " 30.66303146 28.06709851 35.23660666 24.41588172 26.79416889 33.43826272\n",
      " 28.98461002 36.70337271 25.71896824 28.03665701 23.66212852 32.8335853\n",
      " 27.83434482 31.15133515 23.46265313 28.91070399 28.04245186 37.57157614\n",
      " 27.8891782  26.40581069 26.45587143 29.47962529 25.97490595 22.34944072\n",
      " 29.12666908 32.33298538 25.71933121 29.02666023 31.02420216 30.26107553\n",
      " 27.31220528 31.56085009 33.52971506 30.9195818  25.29696425 31.58686024\n",
      " 31.28503821 33.3309319  23.74209495 33.63830638 33.55913096 30.46977425\n",
      " 29.71062872 31.57824271 22.51281293 31.9133361  24.19484743 30.34912791\n",
      " 33.01513319 29.42585016 29.65929313 25.46264345 26.79416889 25.83517387\n",
      " 25.71265634 25.80274635 24.76786584 29.00708256 26.34308967 19.55879079\n",
      " 30.76141556 30.99535774 38.67442033 34.75272995 34.27247608 28.37614796\n",
      " 31.60665138 28.22308307 30.11605042 33.22865442 29.63095231 30.28533469\n",
      " 28.59179959 28.83004175 31.33725166 31.77793584 24.07391291 32.0614653\n",
      " 29.41212632 33.22736623 26.2600864  32.50011341 25.04967728 29.05715403\n",
      " 28.12543509 28.34777912 28.71426085 27.72600599 30.08817146 31.02439137\n",
      " 23.41513448 30.99116878 38.11919747 30.63209703 29.42791971 30.8061801\n",
      " 29.41166156 27.5372774  31.56380185 30.13891394 33.0728681  31.61394728\n",
      " 33.41566961 24.09236979 26.1504673  24.27329067 32.8613519  27.67790202\n",
      " 31.88495405 26.9658123  31.57369199 30.34205773 26.33291939 33.09330354\n",
      " 33.83594118 29.35527094 24.98296371 32.04670726 32.13325111 26.42157151\n",
      " 29.39101779 32.60262753 26.88519893 30.00458058 25.22011926 33.3250772\n",
      " 30.66080215 29.09033956 32.39392302 27.67529624 38.1951472  36.16201449\n",
      " 21.14513987 26.29630422 24.79521663 22.34944072 24.87203038 28.37060303\n",
      " 21.06871072 32.16853028 28.87835362 31.85425107 32.24004636 29.53907469\n",
      " 32.33143293 43.39832436 27.91926846 26.92855531 29.77480498 29.66045138\n",
      " 29.91516954 30.57563376 27.28789703 27.47092359 36.51970372 27.86506319\n",
      " 25.3843127  24.03486589 32.09748398 29.5172699  28.11032966 26.45587143\n",
      " 32.18976443 27.26116967 22.28282335 26.96107264 26.03759708 28.08884057\n",
      " 39.98160895 31.40150107 22.28282335 30.92091041 31.07511422 33.33942842\n",
      " 24.53081174 34.73436255 33.13318651 27.0771806  29.21531804 31.83415011\n",
      " 33.36783704 25.5594525  25.07140814 24.53121602 32.75789293 31.45993901\n",
      " 30.81632746 25.73729821 37.31063685 36.80671133 29.04973406 26.47972929\n",
      " 27.11947629 37.46107292 28.09591202 26.42378197 31.99694089 31.99020131\n",
      " 34.06032368 29.99584985 31.56395599 25.62130916 22.39519091 28.08788315\n",
      " 31.64996783 24.05950775 28.50298291 30.70892512 27.991661   28.95825264\n",
      " 32.75329625 29.80972118 27.35938334 29.00946761 27.30593239 29.61332841\n",
      " 31.61666884 25.18047285 34.00200344 22.28282335 30.55439871 21.50408485\n",
      " 27.06095502 27.78724607 25.96708809 28.66010761 26.33701934 26.98569893\n",
      " 34.88080307 24.14002528 29.02666023 30.6453916  25.92233723 26.55422957\n",
      " 25.53379643 28.58242829 31.49952161 28.77178172 31.94420138 24.52774392\n",
      " 37.63108332 29.51063873 29.72195206 28.64086103 27.2163387  32.27521343\n",
      " 24.79521663 25.3843127  31.07122811 26.06309692 30.73174364 30.87546269\n",
      " 35.26098663 37.59642474 29.96754619 23.3318196  25.68300938 26.54042744\n",
      " 30.95620247 28.58074856 24.50373167 27.81478414 25.71265634 26.51867555\n",
      " 30.6342911  29.26739296 25.21661746 24.76373684 33.22990984 24.17791678\n",
      " 34.82508372 29.06273958 28.07450124 26.68335098 34.70533025 26.09584048\n",
      " 36.10120621 32.79101012 25.99157787 27.26731428 25.50238224 31.4735024\n",
      " 27.6866794  24.99034972 22.78591194 24.63742792 33.35120237 28.50905893\n",
      " 25.18047285 32.11094232 31.93471086 26.91039466 32.61798771 25.58326844\n",
      " 27.79977549 34.84746506 30.63581875 29.63095231 30.10437003 34.09380911\n",
      " 33.91637183 28.35935206 27.93720202 24.17288732 33.22379401 23.69056496\n",
      " 35.3979498  27.49951907 36.08749282 24.87318439 23.11788773 27.59363588\n",
      " 28.71753606 30.43470961 31.77793584 23.83549137 32.55833582 25.91537318\n",
      " 26.7732013  29.5055717  35.3114346  32.53591365 30.5923979  28.05651937\n",
      " 30.59085869 36.68376586 30.53393472 25.47347117 31.552196   30.82350712\n",
      " 25.33077186 26.53161731 32.16477722 24.90155314 27.69469201 31.18872521\n",
      " 34.6611209  31.22416271 32.80324737 27.75569096 25.33070454 31.27790572\n",
      " 31.72523759 33.06433709 26.15559299 33.1224376  21.84207687 27.98437695\n",
      " 24.99293808 26.91867025 29.94937888 29.05888647 36.13862737 24.91055548\n",
      " 24.66204827 35.4020162  29.02622525 25.49643703 32.340285   28.41640196\n",
      " 27.18854935 30.72773801 29.35243486 28.93523166 33.24479075 30.89952947\n",
      " 32.54746241 27.81478414 29.5172699  25.53112495 34.95920585 22.88427935\n",
      " 29.51396984 33.74783999 23.50639371 26.38152318 22.43248093 24.85701464\n",
      " 30.85352764 27.91274336 30.70160726 26.45126897 25.31992633 27.76264966\n",
      " 26.44748513 24.29807511]\n"
     ]
    }
   ],
   "source": [
    "numAnts = 500\n",
    "numNodes = 10\n",
    "\n",
    "routes = np.ones((numAnts,numNodes))\n",
    "scores = np.ones(numAnts)\n",
    "\n",
    "initialNode = np.random.choice(numNodes,1)[0]\n",
    "\n",
    "for i in range(numAnts):\n",
    "    path = get_ant_path(initialNode,nodes,distances)\n",
    "    routes[i,:] = path\n",
    "    scores[i] = path_score(path,distances)\n",
    "    \n",
    "print(routes)\n",
    "print(scores)\n",
    "\n",
    "\n",
    "\n"
   ]
  },
  {
   "cell_type": "code",
   "execution_count": null,
   "metadata": {},
   "outputs": [],
   "source": []
  }
 ],
 "metadata": {
  "kernelspec": {
   "display_name": "Python 3",
   "language": "python",
   "name": "python3"
  },
  "language_info": {
   "codemirror_mode": {
    "name": "ipython",
    "version": 3
   },
   "file_extension": ".py",
   "mimetype": "text/x-python",
   "name": "python",
   "nbconvert_exporter": "python",
   "pygments_lexer": "ipython3",
   "version": "3.8.3"
  }
 },
 "nbformat": 4,
 "nbformat_minor": 4
}
