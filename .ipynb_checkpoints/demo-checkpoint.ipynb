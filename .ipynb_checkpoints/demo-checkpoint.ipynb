{
 "cells": [
  {
   "cell_type": "markdown",
   "metadata": {},
   "source": [
    "Code for our bioAI demo "
   ]
  },
  {
   "cell_type": "code",
   "execution_count": 20,
   "metadata": {},
   "outputs": [],
   "source": [
    "# Import required libraries\n",
    "\n",
    "import numpy as np\n",
    "import math\n",
    "import matplotlib.pyplot as plt\n",
    "%matplotlib inline\n"
   ]
  },
  {
   "cell_type": "markdown",
   "metadata": {},
   "source": [
    "Initialising a simple network structure as a small demo of TSP using ant colony optimisation. This is simply as a test to make sure I understand the methodology"
   ]
  },
  {
   "cell_type": "code",
   "execution_count": 21,
   "metadata": {},
   "outputs": [],
   "source": [
    "# Initilise network of nodes within a rectangular boundary\n",
    "\n",
    "def init_network(numNodes):\n",
    "    #generate node coordinates\n",
    "    minVal = 0\n",
    "    maxVal = 10\n",
    "    rangeSize = maxVal - minVal\n",
    "    coordinates = np.random.rand(numNodes,2) * rangeSize + minVal\n",
    "    print(coordinates)\n",
    "    return coordinates\n",
    "    \n"
   ]
  },
  {
   "cell_type": "code",
   "execution_count": 22,
   "metadata": {},
   "outputs": [
    {
     "name": "stdout",
     "output_type": "stream",
     "text": [
      "[[8.22152076 4.80673558]\n",
      " [1.05744734 9.93911967]\n",
      " [9.09340044 3.0660426 ]\n",
      " [8.09360788 9.87680474]\n",
      " [2.4597989  4.24205361]\n",
      " [4.11636419 9.12769817]\n",
      " [1.85477087 7.52309028]\n",
      " [4.97699295 1.99262267]\n",
      " [2.55696451 9.43121639]\n",
      " [3.89760495 4.86192848]]\n"
     ]
    },
    {
     "data": {
      "text/plain": [
       "array([8.22152076, 1.05744734, 9.09340044, 8.09360788, 2.4597989 ,\n",
       "       4.11636419, 1.85477087, 4.97699295, 2.55696451, 3.89760495])"
      ]
     },
     "execution_count": 22,
     "metadata": {},
     "output_type": "execute_result"
    }
   ],
   "source": [
    "nodes = init_network(10)\n",
    "nodes[:,0]"
   ]
  },
  {
   "cell_type": "code",
   "execution_count": 24,
   "metadata": {},
   "outputs": [
    {
     "name": "stdout",
     "output_type": "stream",
     "text": [
      "[[1.23858698 7.0607711 ]\n",
      " [9.11016622 9.10403185]\n",
      " [0.70996998 8.67046015]\n",
      " [1.70437792 4.99008859]\n",
      " [3.27141642 9.97313492]\n",
      " [0.46722418 7.15415979]\n",
      " [4.53387736 4.40772675]\n",
      " [5.23051386 3.52633277]\n",
      " [5.51315478 2.9955342 ]\n",
      " [4.41789571 0.77547366]]\n"
     ]
    },
    {
     "data": {
      "image/png": "[encoded data removed]",
      "text/plain": [
       "<Figure size 432x288 with 1 Axes>"
      ]
     },
     "metadata": {
      "needs_background": "light"
     },
     "output_type": "display_data"
    }
   ],
   "source": [
    "#Visualise network nodes\n",
    "nodes = init_network(10)\n",
    "fig, ax = plt.subplots()\n",
    "ax.scatter(nodes[:,0],nodes[:,1])\n",
    "plt.show()\n",
    "    \n"
   ]
  },
  {
   "cell_type": "code",
   "execution_count": null,
   "metadata": {},
   "outputs": [],
   "source": []
  },
  {
   "cell_type": "code",
   "execution_count": null,
   "metadata": {},
   "outputs": [],
   "source": []
  },
  {
   "cell_type": "code",
   "execution_count": null,
   "metadata": {},
   "outputs": [],
   "source": []
  }
 ],
 "metadata": {
  "kernelspec": {
   "display_name": "Python 3",
   "language": "python",
   "name": "python3"
  },
  "language_info": {
   "codemirror_mode": {
    "name": "ipython",
    "version": 3
   },
   "file_extension": ".py",
   "mimetype": "text/x-python",
   "name": "python",
   "nbconvert_exporter": "python",
   "pygments_lexer": "ipython3",
   "version": "3.8.3"
  }
 },
 "nbformat": 4,
 "nbformat_minor": 4
}
